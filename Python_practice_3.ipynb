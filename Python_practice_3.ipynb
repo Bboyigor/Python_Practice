{
  "nbformat": 4,
  "nbformat_minor": 0,
  "metadata": {
    "colab": {
      "provenance": [],
      "toc_visible": true,
      "authorship_tag": "ABX9TyPz/L6czjCmKyaKhUgGI//l",
      "include_colab_link": true
    },
    "kernelspec": {
      "name": "python3",
      "display_name": "Python 3"
    },
    "language_info": {
      "name": "python"
    }
  },
  "cells": [
    {
      "cell_type": "markdown",
      "metadata": {
        "id": "view-in-github",
        "colab_type": "text"
      },
      "source": [
        "<a href=\"https://colab.research.google.com/github/Bboyigor/Python_Practice/blob/main/Python_practice_3.ipynb\" target=\"_parent\"><img src=\"https://colab.research.google.com/assets/colab-badge.svg\" alt=\"Open In Colab\"/></a>"
      ]
    },
    {
      "cell_type": "markdown",
      "source": [
        "#I. range"
      ],
      "metadata": {
        "id": "ZdhueLrjZHtl"
      }
    },
    {
      "cell_type": "markdown",
      "source": [
        "1. (4 бали) Створіть обʼєкт типу range, який буде містити послідовність цілих чисел від 0 до 9 включно. Виведіть його довжину (кількість значень)."
      ],
      "metadata": {
        "id": "mYDEM5RtZaFi"
      }
    },
    {
      "cell_type": "code",
      "source": [
        "range_var = range(10)\n",
        "print(len(range_var))"
      ],
      "metadata": {
        "colab": {
          "base_uri": "https://localhost:8080/"
        },
        "id": "oc4JY7ykZYGY",
        "outputId": "60438c89-ab84-4288-fa28-6f52ae4b3b46"
      },
      "execution_count": 1,
      "outputs": [
        {
          "output_type": "stream",
          "name": "stdout",
          "text": [
            "10\n"
          ]
        }
      ]
    },
    {
      "cell_type": "markdown",
      "source": [
        "2. (5 балів) Створіть обʼєкт типу range, який буде містити послідовність цілих чисел (16, 13, 10, 7, 4, 1, -2, -5)"
      ],
      "metadata": {
        "id": "lhXKSH7VZ20i"
      }
    },
    {
      "cell_type": "code",
      "source": [
        "range_var = range(16,-6,-3)\n",
        "for range_var in range_var:\n",
        "  print(range_var)"
      ],
      "metadata": {
        "colab": {
          "base_uri": "https://localhost:8080/"
        },
        "id": "3xcFcMz9Z_7P",
        "outputId": "f3c5b26a-ed52-43d0-a74d-a244789956ac"
      },
      "execution_count": 2,
      "outputs": [
        {
          "output_type": "stream",
          "name": "stdout",
          "text": [
            "16\n",
            "13\n",
            "10\n",
            "7\n",
            "4\n",
            "1\n",
            "-2\n",
            "-5\n"
          ]
        }
      ]
    },
    {
      "cell_type": "markdown",
      "source": [
        "3. (4 бали) Створіть змінну зі значенням цілого типу. Перевірте, чи вона належить проміжку від 49 до 100 включно. Як ви гадаєте, для чого використовуються range?"
      ],
      "metadata": {
        "id": "lkc5OtTSa79o"
      }
    },
    {
      "cell_type": "code",
      "source": [
        "\n",
        "my_var_1 = 10\n",
        "range_var = range(49,101)\n",
        "\n",
        "print(my_var_1 in range_var)\n",
        "\n",
        "if my_var_1 in range_var:\n",
        "    print(True)\n",
        "else:\n",
        "    print(False)"
      ],
      "metadata": {
        "colab": {
          "base_uri": "https://localhost:8080/"
        },
        "id": "QGFXwyDvad1V",
        "outputId": "5385706e-96c1-4d42-c9ae-7ad5b8b2be1c"
      },
      "execution_count": 5,
      "outputs": [
        {
          "output_type": "stream",
          "name": "stdout",
          "text": [
            "False\n",
            "False\n"
          ]
        }
      ]
    },
    {
      "cell_type": "markdown",
      "source": [
        "*місце для відповіді"
      ],
      "metadata": {
        "id": "AB4t_AQzaZj6"
      }
    },
    {
      "cell_type": "markdown",
      "source": [
        "#II. Comprehensions."
      ],
      "metadata": {
        "id": "ajpwSPzGawnU"
      }
    },
    {
      "cell_type": "markdown",
      "source": [
        "4. (6 балів) Створіть множину (set), використовуючи range та set comprehension.\n"
      ],
      "metadata": {
        "id": "oC10AoDka1I3"
      }
    },
    {
      "cell_type": "code",
      "source": [
        "set_range = set(x for x in range(10))\n",
        "print(set_range)"
      ],
      "metadata": {
        "colab": {
          "base_uri": "https://localhost:8080/"
        },
        "id": "3eKQx-lNbEF0",
        "outputId": "bf5a17af-6829-4a97-89d8-213f82df5ee8"
      },
      "execution_count": 6,
      "outputs": [
        {
          "output_type": "stream",
          "name": "stdout",
          "text": [
            "{0, 1, 2, 3, 4, 5, 6, 7, 8, 9}\n"
          ]
        }
      ]
    },
    {
      "cell_type": "markdown",
      "source": [
        "5. (8 балів) Створіть словник, використовуючи dict comprehension, що містить if else. Коли слід використовувати comprehensions, а коли їх слід уникати?"
      ],
      "metadata": {
        "id": "XqArodlfbPsq"
      }
    },
    {
      "cell_type": "code",
      "source": [
        "words = ['Python', 'programming', 'language', 'is', 'awesome']\n",
        "my_dict = {word: len(word) if len(word) % 2 == 0 else word.lower() for word in words}\n",
        "\n",
        "print(my_dict)"
      ],
      "metadata": {
        "colab": {
          "base_uri": "https://localhost:8080/"
        },
        "id": "GRn2cNKrbSkd",
        "outputId": "aacef4ee-00d9-444c-c870-f61361cd522a"
      },
      "execution_count": 13,
      "outputs": [
        {
          "output_type": "stream",
          "name": "stdout",
          "text": [
            "{'Python': 6, 'programming': 'programming', 'language': 8, 'is': 2, 'awesome': 'awesome'}\n"
          ]
        }
      ]
    },
    {
      "cell_type": "markdown",
      "source": [
        "Сomprehension слід використовувати, коли у нас є прості операції на списках, словниках, множинах, коли нам потрібно зробити фільтрацію елементів і тд.. Уникати comprehensions - коли сomprehensions збільшує складність коду"
      ],
      "metadata": {
        "id": "hCE1QSzKdDbt"
      }
    },
    {
      "cell_type": "markdown",
      "source": [
        "6. (7 балів) Створіть список з рядками та запишіть його у змінну. Створіть ще один список на основі попереднього, де кожен рядок буде містити тільки три перших заглавних символи. Наприклад: ['hello', 'i', 'dont', 'care'] -> ['HEL', 'I', 'DON', 'CAR']"
      ],
      "metadata": {
        "id": "90m0Xm2PdFlX"
      }
    },
    {
      "cell_type": "code",
      "source": [
        "str = ['hello', 'i', 'dont', 'care']\n",
        "list = [s[:3].upper() for s in str]\n",
        "print(list)"
      ],
      "metadata": {
        "colab": {
          "base_uri": "https://localhost:8080/"
        },
        "id": "K3D6hdxmdE-W",
        "outputId": "7d459081-3b00-43ee-8c29-247367b63edc"
      },
      "execution_count": 16,
      "outputs": [
        {
          "output_type": "stream",
          "name": "stdout",
          "text": [
            "['HEL', 'I', 'DON', 'CAR']\n"
          ]
        }
      ]
    },
    {
      "cell_type": "markdown",
      "source": [
        "#III. Цикли."
      ],
      "metadata": {
        "id": "k5lh8TW3d-hm"
      }
    },
    {
      "cell_type": "markdown",
      "source": [
        "7. (6 балів) Продемонструйте роботу циклу while. Чи можна використовувати в умові циклу булеві значення? Чому?"
      ],
      "metadata": {
        "id": "MQKVZTNbePu4"
      }
    },
    {
      "cell_type": "code",
      "source": [
        "counter = 1\n",
        "while counter <= 10:\n",
        "    print(counter)\n",
        "    counter += 1"
      ],
      "metadata": {
        "colab": {
          "base_uri": "https://localhost:8080/"
        },
        "id": "9CaWKXxLeN6u",
        "outputId": "9497e809-e03c-406a-9c6b-99db96dbfa5b"
      },
      "execution_count": 19,
      "outputs": [
        {
          "output_type": "stream",
          "name": "stdout",
          "text": [
            "1\n",
            "2\n",
            "3\n",
            "4\n",
            "5\n",
            "6\n",
            "7\n",
            "8\n",
            "9\n",
            "10\n"
          ]
        }
      ]
    },
    {
      "cell_type": "markdown",
      "source": [
        "8. (8 балів) Напишіть програму, яка виведе на екран непарні числа в діапазоні від 0 до 20 включно."
      ],
      "metadata": {
        "id": "qagixMELeq3R"
      }
    },
    {
      "cell_type": "code",
      "source": [
        "for number in range(21):\n",
        "    if number % 2 != 0:\n",
        "        print(number)"
      ],
      "metadata": {
        "colab": {
          "base_uri": "https://localhost:8080/"
        },
        "id": "hjA-ydo0es4P",
        "outputId": "eaf8ca75-1a4d-40a1-c49e-63b438c28a27"
      },
      "execution_count": 20,
      "outputs": [
        {
          "output_type": "stream",
          "name": "stdout",
          "text": [
            "1\n",
            "3\n",
            "5\n",
            "7\n",
            "9\n",
            "11\n",
            "13\n",
            "15\n",
            "17\n",
            "19\n"
          ]
        }
      ]
    },
    {
      "cell_type": "markdown",
      "source": [
        "9. (7 балів) Створіть список з елементами булевого типу або None. Використовуючи цикли, отримайте в результаті список з кортежами, де перший елемент кортежу - індекс(ціле число), а другий елемент - відповідне значення з першого списку.\n",
        "\n",
        "Наприклад, [True, True, None, False] -> [(0, True), (1, True), (2, None), (3, False)]"
      ],
      "metadata": {
        "id": "BpdpXFJmeyTW"
      }
    },
    {
      "cell_type": "code",
      "source": [
        "my_list = ['Hello', 'what', 'are', 'you', 'doing']\n",
        "res_list = []\n",
        "\n",
        "for idx, val in enumerate(my_list):\n",
        "    res_list.append((idx, val))\n",
        "\n",
        "print(res_list)"
      ],
      "metadata": {
        "colab": {
          "base_uri": "https://localhost:8080/"
        },
        "id": "tixhefXXezTF",
        "outputId": "574737a8-2333-4be9-8f89-0e28c694d7bb"
      },
      "execution_count": 21,
      "outputs": [
        {
          "output_type": "stream",
          "name": "stdout",
          "text": [
            "[(0, 'Hello'), (1, 'what'), (2, 'are'), (3, 'you'), (4, 'doing')]\n"
          ]
        }
      ]
    },
    {
      "cell_type": "markdown",
      "source": [
        "10. (10 балів) Створіть словник, де ключі - назви книжок, а значення - їхня кількість у наявності в Вашій міні-бібліотеці. Бібліотека має містити щонайменше 6 книжок (6 пар значень у словнику) і щонайбільше 10 (пар значень). Використовуючи цикли, оновіть словник (не створюйте новий) так, щоби кількість книг у наявності збільшилося на 5 кожної книги. Наприклад,\n",
        "{'It': 3, 'Fault stars': 10, 'Bible': 17, 'Psychological romance': 4, 'Harry Potter': 13} -> {'It': 8, 'Fault stars': 15, 'Bible': 22, 'Psychological romance': 9, 'Harry Potter': 18}"
      ],
      "metadata": {
        "id": "u-RAad9FfCai"
      }
    },
    {
      "cell_type": "code",
      "source": [
        "library = {'Dune': 5, '1984': 8,\n",
        "           'Brave New World': 12,\n",
        "           'The Catcher in the Rye': 6,\n",
        "           'Piter Pan': 10\n",
        "           }\n",
        "for book, quantity in library.items():\n",
        "    library[book] = quantity + 5\n",
        "\n",
        "print(library)"
      ],
      "metadata": {
        "colab": {
          "base_uri": "https://localhost:8080/"
        },
        "id": "12gyjdTOfDaR",
        "outputId": "6bdb944a-79a4-4a1f-f835-0613182dc1f4"
      },
      "execution_count": 22,
      "outputs": [
        {
          "output_type": "stream",
          "name": "stdout",
          "text": [
            "{'Dune': 10, '1984': 13, 'Brave New World': 17, 'The Catcher in the Rye': 11, 'Piter Pan': 15}\n"
          ]
        }
      ]
    },
    {
      "cell_type": "markdown",
      "source": [
        "11. (15 балів) Визначте цілочислену змінну n, що належить проміжку від 4 до 10 включно. Використовуючи цикли, виведіть в консоль наступний патерн.\n",
        "\n",
        "#\n",
        "##\n",
        "###\n",
        "####\n",
        "\n",
        "... #*n"
      ],
      "metadata": {
        "id": "cBB7WQrBgEZo"
      }
    },
    {
      "cell_type": "code",
      "source": [
        "a = 10\n",
        "for i in range(2, a):\n",
        "    print('#' * i)"
      ],
      "metadata": {
        "colab": {
          "base_uri": "https://localhost:8080/"
        },
        "id": "iisa3gf7gIQx",
        "outputId": "6c3505fd-be07-4d0b-d746-d583d4517026"
      },
      "execution_count": 25,
      "outputs": [
        {
          "output_type": "stream",
          "name": "stdout",
          "text": [
            "##\n",
            "###\n",
            "####\n",
            "#####\n",
            "######\n",
            "#######\n",
            "########\n",
            "#########\n"
          ]
        }
      ]
    },
    {
      "cell_type": "markdown",
      "source": [
        "12. (20 балів) Гра \"Нумо вгадай\".\n",
        "Розробіть просту гру, де користувач має вгадати випадкове число від 1 до 100. Для генерації випадкового числа використовуйте функцію random.randint(a, b) (тут a та b включно). Для отримання числа з консолі використовуйте функцію input(), результат якої обовʼязково явно приведіть до типу int.\n",
        "\n",
        "Підказка: використовуйте цикл while та умови if-else, щоб повідомити користувачу піказки (напр. \"Більше\", \"Менше\") поки користувач не вгадає. По завершенню виведіть кількість спроб, які знадобилися для вгадування.\n"
      ],
      "metadata": {
        "id": "q6w-K8aLgVLi"
      }
    },
    {
      "cell_type": "code",
      "source": [
        "import random\n",
        "\n",
        "def number():\n",
        "\n",
        "    secret_number = random.randint(1, 100)\n",
        "\n",
        "    print(\"Вгадайте число від 1 до 100\")\n",
        "\n",
        "    attempts = 0\n",
        "    while True:\n",
        "\n",
        "        user_guess = input(\"Ваша спроба: \")\n",
        "\n",
        "        try:\n",
        "\n",
        "            user_guess = int(user_guess)\n",
        "        except ValueError:\n",
        "            print(\"Будь ласка, введіть ціле число.\")\n",
        "            continue\n",
        "\n",
        "\n",
        "        attempts += 1\n",
        "\n",
        "\n",
        "        if user_guess == secret_number:\n",
        "            print(f\"Вітаємо! Ви вгадали число {secret_number} за {attempts} спроб.\")\n",
        "            break\n",
        "        elif user_guess < secret_number:\n",
        "            print(\"Більше\")\n",
        "        else:\n",
        "            print(\"Менше\")\n",
        "\n",
        "if __name__ == \"__main__\":\n",
        "    number()\n"
      ],
      "metadata": {
        "colab": {
          "base_uri": "https://localhost:8080/"
        },
        "id": "1Fv-11f2gWex",
        "outputId": "9a0bdaa0-ed9d-469e-e4ac-4b594b19310b"
      },
      "execution_count": null,
      "outputs": [
        {
          "output_type": "stream",
          "name": "stdout",
          "text": [
            "Вгадайте число від 1 до 100\n"
          ]
        }
      ]
    },
    {
      "cell_type": "markdown",
      "source": [
        "#Вітаю! Ви велика(ий) молодець, що впоралась(вся). Похваліть себе та побалуйте чимось приємним. Я Вами пишаюся."
      ],
      "metadata": {
        "id": "bT_fUx8RhaAT"
      }
    }
  ]
}