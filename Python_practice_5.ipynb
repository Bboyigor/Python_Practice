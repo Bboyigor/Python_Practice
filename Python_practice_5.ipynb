{
  "nbformat": 4,
  "nbformat_minor": 0,
  "metadata": {
    "colab": {
      "provenance": [],
      "authorship_tag": "ABX9TyOHwdTTnY0FLrSyJxDHNn9B",
      "include_colab_link": true
    },
    "kernelspec": {
      "name": "python3",
      "display_name": "Python 3"
    },
    "language_info": {
      "name": "python"
    }
  },
  "cells": [
    {
      "cell_type": "markdown",
      "metadata": {
        "id": "view-in-github",
        "colab_type": "text"
      },
      "source": [
        "<a href=\"https://colab.research.google.com/github/Bboyigor/Python_Practice/blob/main/Python_practice_5.ipynb\" target=\"_parent\"><img src=\"https://colab.research.google.com/assets/colab-badge.svg\" alt=\"Open In Colab\"/></a>"
      ]
    },
    {
      "cell_type": "markdown",
      "source": [
        "# I. OOP"
      ],
      "metadata": {
        "id": "VpPANwGjdHiA"
      }
    },
    {
      "cell_type": "markdown",
      "source": [
        "1. (7б). Створіть клас Animal, додайте docstring, три атрибути, один з яких має значення за замовчуванням та два методи на свій розсуд."
      ],
      "metadata": {
        "id": "pAajVaN-dKMF"
      }
    },
    {
      "cell_type": "code",
      "source": [
        "class Animal:\n",
        "  def __init__(self, kind, name, age=0):\n",
        "    \"\"\"docstring\"\"\"\n",
        "    self.kind = kind\n",
        "    self.age = age\n",
        "    self.name = name\n",
        "\n",
        "  def get_name(self):\n",
        "    print(self.name)\n",
        "\n",
        "  def set_age(self, age):\n",
        "    self.age = age\n",
        "    print(f'Вік змінено на {self.age}')"
      ],
      "metadata": {
        "id": "C3wZJBvkdL8M"
      },
      "execution_count": null,
      "outputs": []
    },
    {
      "cell_type": "markdown",
      "source": [
        "1.1. (5б). Створіть два обʼєкти цього класу. На одному обʼєкті отримайте значення його атрибуту, а на іншому викличте один з його методів."
      ],
      "metadata": {
        "id": "P1lqGnr9dh_u"
      }
    },
    {
      "cell_type": "code",
      "source": [
        "from typing import TextIO\n",
        "class Animal:\n",
        "    def __init__(self, name, text):\n",
        "        self.text = text\n",
        "        self.name = name\n",
        "\n",
        "    def make_sound(self):\n",
        "        print(f\"{self.text} звати {self.name}\")\n",
        "        print(f\"{self.name} звати {self.text}\")\n",
        "        print(\"XD\")\n",
        "\n",
        "# Створення першого об'єкта\n",
        "animal1 = Animal(text=\"Гавкало\", name =\"Песик\")\n",
        "\n",
        "# Створення другого об'єкта\n",
        "animal2 = Animal(text=\"Мяукало\", name=\"Котик\")\n",
        "\n",
        "# Отримання значення атрибуту на першому об'єкті\n",
        "animal1_name = animal1.name\n",
        "\n",
        "# Виклик методу на другому об'єкті\n",
        "animal2.make_sound()"
      ],
      "metadata": {
        "colab": {
          "base_uri": "https://localhost:8080/"
        },
        "id": "fmHo6RkedjM8",
        "outputId": "cca81b39-83da-4718-d23b-6d7542e52705"
      },
      "execution_count": 13,
      "outputs": [
        {
          "output_type": "stream",
          "name": "stdout",
          "text": [
            "Мяукало звати Котик\n",
            "Котик звати Мяукало\n",
            "XD\n"
          ]
        }
      ]
    },
    {
      "cell_type": "markdown",
      "source": [
        "(9б). Створіть клас, де атрибути мають різні рівні доступу. Спробуйте отримати їхні значення та опишіть результати."
      ],
      "metadata": {
        "id": "r_LQCdDgfdrw"
      }
    },
    {
      "cell_type": "code",
      "source": [
        "class Wish:\n",
        "    def __init__(self, name, age):\n",
        "        self.__name = name\n",
        "        self._age = age\n",
        "\n",
        "    def get_name(self):\n",
        "      print(f\"{self.__name} {self._age} рік\")\n",
        "\n",
        "Bobi = Wish('Немо', 1)\n",
        "Bobi.get_name()\n",
        "#Bobi._age\n"
      ],
      "metadata": {
        "colab": {
          "base_uri": "https://localhost:8080/"
        },
        "id": "ALgkVvzlfiVs",
        "outputId": "93401e21-f770-4df0-98a7-aa0be79fba32"
      },
      "execution_count": 23,
      "outputs": [
        {
          "output_type": "stream",
          "name": "stdout",
          "text": [
            "Немо 1 рік\n"
          ]
        }
      ]
    },
    {
      "cell_type": "markdown",
      "source": [
        "*3*. (8б). Як ви розумієте термін self? Для чого використовується метод __init __?"
      ],
      "metadata": {
        "id": "smKaPgrhgs6I"
      }
    },
    {
      "cell_type": "markdown",
      "source": [
        "self вказує на екземпляр класу, тобто об'єкт, для якого викликається метод. Метод init використовується для ініціалізації атрибутів об'єкта класу при його створенні.місце для відповіді"
      ],
      "metadata": {
        "id": "OCIrfpl1gze9"
      }
    },
    {
      "cell_type": "markdown",
      "source": [
        "4. (8б). Створіть клас Фігура без атрибутів, з методом get_area для отримання площі фігури, що повертає 0 та __add __, який приймає self та other в якості аргументів, а повертає суму площин фігур self та other."
      ],
      "metadata": {
        "id": "lE9l-Wnzg0Jx"
      }
    },
    {
      "cell_type": "code",
      "source": [
        "class Figure:\n",
        "    def get_area(self):\n",
        "        return 0\n",
        "\n",
        "    def __add__(self, other):\n",
        "        return self.get_area() + other.get_area()"
      ],
      "metadata": {
        "id": "EwN_KydUguld"
      },
      "execution_count": null,
      "outputs": []
    },
    {
      "cell_type": "markdown",
      "source": [
        "5. (11б). Створіть 2 дочірніх класи від Фігури: Трикутник та Коло, які мають атрибути, необхідні для розрахунку площин. Визначте метод get_area в кожному з них так, щоби вони розраховували площу в залежності від формули для кожного типу фігури. Створіть обʼєкт класу Трикутник та обʼєкт класу Коло. Виконайте операцію суми за допомогою оператора + між ними."
      ],
      "metadata": {
        "id": "a0j72hZthGxb"
      }
    },
    {
      "cell_type": "code",
      "source": [
        "\n",
        "import math\n",
        "\n",
        "class Figure:\n",
        "    def get_area(self):\n",
        "        return 0\n",
        "\n",
        "    def __add__(self, other):\n",
        "        return self.get_area() + other.get_area()\n",
        "\n",
        "class Triangle(Figure):\n",
        "    def __init__(self, base, height):\n",
        "        self.base = base\n",
        "        self.height = height\n",
        "\n",
        "    def get_area(self):\n",
        "        return 0.5 * self.base * self.height\n",
        "\n",
        "class Circle(Figure):\n",
        "    def __init__(self, radius):\n",
        "        self.radius = radius\n",
        "\n",
        "    def get_area(self):\n",
        "        return math.pi * self.radius**2\n",
        "\n",
        "triangle = Triangle(base=5, height=8)\n",
        "circle = Circle(radius=4)\n",
        "\n",
        "area_triangle = triangle.get_area()\n",
        "\n",
        "area_circle = circle.get_area()\n",
        "\n",
        "sum_of_areas = triangle + circle\n",
        "\n",
        "print(f\"Площа трикутника: {area_triangle}\")\n",
        "print(f\"Площа кола: {area_circle}\")\n",
        "print(f\"Сума площин трикутника та кола: {sum_of_areas}\")"
      ],
      "metadata": {
        "colab": {
          "base_uri": "https://localhost:8080/"
        },
        "id": "CDNnPbvshKML",
        "outputId": "c6e3a18b-7185-47e3-e8f7-5bfb188a7901"
      },
      "execution_count": 24,
      "outputs": [
        {
          "output_type": "stream",
          "name": "stdout",
          "text": [
            "Площа трикутника: 20.0\n",
            "Площа кола: 50.26548245743669\n",
            "Сума площин трикутника та кола: 70.26548245743669\n"
          ]
        }
      ]
    },
    {
      "cell_type": "markdown",
      "source": [
        "6. (7б). Продемонструйте різницю між isinstance та issubclass."
      ],
      "metadata": {
        "id": "TeVC0-P1wuFU"
      }
    },
    {
      "cell_type": "code",
      "source": [
        "print(issubclass(Circle, Figure))\n",
        "print(isinstance('Igorek', int))"
      ],
      "metadata": {
        "colab": {
          "base_uri": "https://localhost:8080/"
        },
        "id": "vqRETolJw4cA",
        "outputId": "2fb31241-08bc-4d3a-cc28-dc6cd3cd0d51"
      },
      "execution_count": 25,
      "outputs": [
        {
          "output_type": "stream",
          "name": "stdout",
          "text": [
            "True\n",
            "False\n"
          ]
        }
      ]
    },
    {
      "cell_type": "markdown",
      "source": [
        "7. (16б). Створіть клас BankAccount з приватними атрибутами balance та account_number.\n",
        "Реалізуйте методи поповнення та зняття коштів, забезпечивши належну інкапсуляцію. Підказка: використовуйте декоратори getter та setter."
      ],
      "metadata": {
        "id": "gYWN9p1GxDAa"
      }
    },
    {
      "cell_type": "code",
      "source": [
        "class BankAccount:\n",
        "    def __init__(self, account_number, initial_balance=0.0):\n",
        "        self.__account_number = account_number\n",
        "        self.__balance = initial_balance\n",
        "\n",
        "    @property\n",
        "    def balance(self):\n",
        "        return self.__balance\n",
        "\n",
        "    @property\n",
        "    def account_number(self):\n",
        "        return self.__account_number\n",
        "\n",
        "    @balance.setter\n",
        "    def balance(self, new_balance):\n",
        "        if new_balance >= 0:\n",
        "            self.__balance = new_balance\n",
        "        else:\n",
        "            print(\"Некоректна операція: баланс не може бути від'ємним.\")\n",
        "\n",
        "    def deposit(self, amount):\n",
        "        if amount > 0:\n",
        "            self.__balance += amount\n",
        "            print(f\"Поповнення на {amount} грн успішно виконано. Новий баланс: {self.__balance} грн.\")\n",
        "        else:\n",
        "            print(\"Некоректна операція: сума поповнення має бути більше 0.\")\n",
        "\n",
        "    def withdraw(self, amount):\n",
        "        if 0 < amount <= self.__balance:\n",
        "            self.__balance -= amount\n",
        "            print(f\"Зняття {amount} грн успішно виконано. Новий баланс: {self.__balance} грн.\")\n",
        "        else:\n",
        "            print(\"Некоректна операція: недостатньо коштів або сума зняття неправильна.\")\n",
        "\n",
        "# Приклад використання:\n",
        "account = BankAccount(account_number=\"123456789\")\n",
        "print(f\"Номер рахунку: {account.account_number}\")\n",
        "print(f\"Початковий баланс: {account.balance} грн\")\n",
        "\n",
        "account.deposit(1000)\n",
        "account.withdraw(500)\n"
      ],
      "metadata": {
        "colab": {
          "base_uri": "https://localhost:8080/"
        },
        "id": "BbC3HDQZxDrc",
        "outputId": "1ff2969e-bf90-41f1-9d3f-a113e8ec396f"
      },
      "execution_count": 28,
      "outputs": [
        {
          "output_type": "stream",
          "name": "stdout",
          "text": [
            "Номер рахунку: 123456789\n",
            "Початковий баланс: 0.0 грн\n",
            "Поповнення на 1000 грн успішно виконано. Новий баланс: 1000.0 грн.\n",
            "Зняття 500 грн успішно виконано. Новий баланс: 500.0 грн.\n"
          ]
        }
      ]
    },
    {
      "cell_type": "code",
      "source": [
        "class BankAccount:\n",
        "    def __init__(self, account_number, balance, card_number):\n",
        "        self._account_number = account_number\n",
        "        self.__balance = balance\n",
        "        self.card_number = card_number\n",
        "\n",
        "    def get_balance(self):\n",
        "        return self.__balance\n",
        "\n",
        "    def withdraw(self, money):\n",
        "        if money > 0:\n",
        "            self.__balance -= money\n",
        "            return self.__balance\n",
        "        else:\n",
        "            print(\"Помилка\")\n",
        "            return None\n",
        "\n",
        "    def deposit(self, money):\n",
        "        if money > 0:\n",
        "            self.__balance += money\n",
        "            return self.__balance\n",
        "        else:\n",
        "            print(\"Помилка\")\n",
        "            return None\n",
        "\n",
        "my_account = BankAccount(account_number=1, balance=400, card_number=\"1234-1234-1234-1234\")\n",
        "\n",
        "print(\"Номер картки:\", my_account.card_number)\n",
        "print(\"Баланс рахунку:\", my_account.get_balance())\n",
        "\n",
        "withdraw_amount = 300\n",
        "print(f\"Знято {withdraw_amount} грн. Новий баланс: {my_account.withdraw(withdraw_amount)} грн\")\n",
        "deposit_amount = 150\n",
        "print(f\"Поповнено {deposit_amount} грн. Новий баланс: {my_account.deposit(deposit_amount)} грн\")\n"
      ],
      "metadata": {
        "colab": {
          "base_uri": "https://localhost:8080/"
        },
        "id": "O0txW8WZyBCc",
        "outputId": "522db3df-d095-4ffe-eed0-f563cdc0121e"
      },
      "execution_count": 43,
      "outputs": [
        {
          "output_type": "stream",
          "name": "stdout",
          "text": [
            "Номер картки: 1234-1234-1234-1234\n",
            "Баланс рахунку: 400\n",
            "Знято 300 грн. Новий баланс: 100 грн\n",
            "Поповнено 150 грн. Новий баланс: 250 грн\n"
          ]
        }
      ]
    },
    {
      "cell_type": "markdown",
      "source": [
        "8. (16б). Створіть клас Library, який містить список об'єктів типу Book.\n",
        "Реалізуйте методи для додавання книги, видалення книги та відображення списку книг."
      ],
      "metadata": {
        "id": "-5ubBO7L0Kzt"
      }
    },
    {
      "cell_type": "code",
      "source": [
        "class Book:\n",
        "    def __init__(self, title, author):\n",
        "        self.title = title\n",
        "        self.author = author\n",
        "\n",
        "class Library:\n",
        "    def __init__(self):\n",
        "        self.books = []\n",
        "\n",
        "    def add_book(self, title, author):\n",
        "        new_book = Book(title, author)\n",
        "        self.books.append(new_book)\n",
        "        print(f\"Книга '{title}' авторства {author} додана до бібліотеки.\")\n",
        "\n",
        "    def remove_book(self, title, author):\n",
        "        for book in self.books:\n",
        "            if book.title == title and book.author == author:\n",
        "                self.books.remove(book)\n",
        "                print(f\"Книга '{title}' авторства {author} видалена з бібліотеки.\")\n",
        "                return\n",
        "        print(f\"Книга '{title}' авторства {author} не знайдена в бібліотеці.\")\n",
        "\n",
        "    def display_books(self):\n",
        "        if not self.books:\n",
        "            print(\"У бібліотеці немає жодної книги.\")\n",
        "        else:\n",
        "            print(\"Список книг у бібліотеці:\")\n",
        "            for book in self.books:\n",
        "                print(f\"Назва: {book.title}, Автор: {book.author}\")\n",
        "\n",
        "\n",
        "library = Library()\n",
        "\n",
        "library.add_book(\"Пригоди Біби і Боби\", \"Тони Чоппер\")\n",
        "library.add_book(\"Майстер і Маргарита\", \"Фіксики\")\n",
        "library.display_books()\n",
        "\n",
        "library.remove_book(\"Пригоди Біби і Боби\", \"Марк Твен\")\n",
        "library.display_books()"
      ],
      "metadata": {
        "colab": {
          "base_uri": "https://localhost:8080/"
        },
        "id": "d3ioF03k0PHl",
        "outputId": "baeb0ce1-2a2b-40ed-fe79-46094bcc780f"
      },
      "execution_count": 44,
      "outputs": [
        {
          "output_type": "stream",
          "name": "stdout",
          "text": [
            "Книга 'Пригоди Біби і Боби' авторства Тони Чоппер додана до бібліотеки.\n",
            "Книга 'Майстер і Маргарита' авторства Фіксики додана до бібліотеки.\n",
            "Список книг у бібліотеці:\n",
            "Назва: Пригоди Біби і Боби, Автор: Тони Чоппер\n",
            "Назва: Майстер і Маргарита, Автор: Фіксики\n",
            "Книга 'Пригоди Біби і Боби' авторства Марк Твен не знайдена в бібліотеці.\n",
            "Список книг у бібліотеці:\n",
            "Назва: Пригоди Біби і Боби, Автор: Тони Чоппер\n",
            "Назва: Майстер і Маргарита, Автор: Фіксики\n"
          ]
        }
      ]
    },
    {
      "cell_type": "markdown",
      "source": [
        "9. (13б). Створіть клас Person з атрибутами name та age.\n",
        "Створіть ще один клас Employee з такими атрибутами, як department та salary.\n",
        "Створіть клас Manager, який успадковує обидва класи Person та Employee. Продемонструйте використання множинної спадковості, створивши обʼєкт класу Manager та отримавши mro для цього класу."
      ],
      "metadata": {
        "id": "U1CHISnI1Nz2"
      }
    },
    {
      "cell_type": "code",
      "source": [
        "class Person:\n",
        "    def __init__(self, name, age):\n",
        "        self.name = name\n",
        "        self.age = age\n",
        "\n",
        "class Employee:\n",
        "    def __init__(self, department, salary):\n",
        "        self.department = department\n",
        "        self.salary = salary\n",
        "\n",
        "class Manager(Person, Employee):\n",
        "    def __init__(self, name, age, department, salary, title):\n",
        "        Person.__init__(self, name, age)\n",
        "        Employee.__init__(self, department, salary)\n",
        "        self.title = title\n",
        "\n",
        "manager = Manager(name=\"Valentyn Zatserkovnyi\", age=19, department=\"HR\", salary=60000, title=\"Senior Manager\")\n",
        "\n",
        "print(f\"Ім'я: {manager.name}\")\n",
        "print(f\"Вік: {manager.age}\")\n",
        "print(f\"Відділ: {manager.department}\")\n",
        "print(f\"Зарплата: {manager.salary}\")\n",
        "print(f\"Посада: {manager.title}\")\n",
        "\n",
        "print(Manager.mro())"
      ],
      "metadata": {
        "colab": {
          "base_uri": "https://localhost:8080/"
        },
        "id": "xu6tL3mE2UVg",
        "outputId": "8ffe2289-ed42-4d26-b3ac-7b0a90e98a94"
      },
      "execution_count": 49,
      "outputs": [
        {
          "output_type": "stream",
          "name": "stdout",
          "text": [
            "Ім'я: Valentyn Zatserkovnyi\n",
            "Вік: 19\n",
            "Відділ: HR\n",
            "Зарплата: 60000\n",
            "Посада: Senior Manager\n",
            "[<class '__main__.Manager'>, <class '__main__.Person'>, <class '__main__.Employee'>, <class 'object'>]\n"
          ]
        }
      ]
    },
    {
      "cell_type": "code",
      "source": [
        "class Person:\n",
        "    def __init__(self, name, age):\n",
        "        self.name = name\n",
        "        self.age = age\n",
        "\n",
        "class Employee:\n",
        "    def __init__(self, department, salary):\n",
        "        self.department = department\n",
        "        self.salary = salary\n",
        "\n",
        "class Manager(Person, Employee):\n",
        "    def __init__(self, name, age, department, salary, title):\n",
        "        Person.__init__(self, name, age)\n",
        "        Employee.__init__(self, department, salary)\n",
        "        self.title = title\n",
        "\n",
        "manager = Manager(name=\"Igor Kondratenko\", age=20, department=\"cheburek\", salary=1000000, title=\"Biznesman\")\n",
        "\n",
        "print(f\"Ім'я: {manager.name}\")\n",
        "print(f\"Вік: {manager.age}\")\n",
        "print(f\"Відділ: {manager.department}\")\n",
        "print(f\"Зарплата: {manager.salary}\")\n",
        "print(f\"Посада: {manager.title}\")"
      ],
      "metadata": {
        "colab": {
          "base_uri": "https://localhost:8080/"
        },
        "id": "iDatq1w_1MkD",
        "outputId": "5298a64f-f748-49f5-c26d-8a2b4f964e87"
      },
      "execution_count": 56,
      "outputs": [
        {
          "output_type": "stream",
          "name": "stdout",
          "text": [
            "Ім'я: Igor Kondratenko\n",
            "Вік: 20\n",
            "Відділ: cheburek\n",
            "Зарплата: 1000000\n",
            "Посада: Biznesman\n"
          ]
        }
      ]
    },
    {
      "cell_type": "markdown",
      "source": [
        "# Вітаю! Ви велика(ий) молодець, що впоралась(вся). Похваліть себе та побалуйте чимось приємним. Я Вами пишаюся."
      ],
      "metadata": {
        "id": "RB9-hdQS23SH"
      }
    }
  ]
}