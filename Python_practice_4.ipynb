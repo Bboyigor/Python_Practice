{
  "nbformat": 4,
  "nbformat_minor": 0,
  "metadata": {
    "colab": {
      "provenance": [],
      "toc_visible": true,
      "authorship_tag": "ABX9TyMl9WICQLR/hdg/a71yVhyt",
      "include_colab_link": true
    },
    "kernelspec": {
      "name": "python3",
      "display_name": "Python 3"
    },
    "language_info": {
      "name": "python"
    }
  },
  "cells": [
    {
      "cell_type": "markdown",
      "metadata": {
        "id": "view-in-github",
        "colab_type": "text"
      },
      "source": [
        "<a href=\"https://colab.research.google.com/github/Bboyigor/Python_Practice/blob/main/Python_practice_4.ipynb\" target=\"_parent\"><img src=\"https://colab.research.google.com/assets/colab-badge.svg\" alt=\"Open In Colab\"/></a>"
      ]
    },
    {
      "cell_type": "markdown",
      "source": [
        "# I. Functions. Arguments."
      ],
      "metadata": {
        "id": "juNySBdpSDKG"
      }
    },
    {
      "cell_type": "markdown",
      "source": [
        "0. (5б) Назвіть 4 частини, з яких складається визначення функції."
      ],
      "metadata": {
        "id": "agZoWm1_SJXi"
      }
    },
    {
      "cell_type": "code",
      "source": [
        "def title(argument):\n",
        "    body\n",
        "    return rezultat"
      ],
      "metadata": {
        "id": "lJJZVB2FSIbR"
      },
      "execution_count": 1,
      "outputs": []
    },
    {
      "cell_type": "markdown",
      "source": [
        "1. (4б) Визначте функцію, що приймає 2 аргументи та повертає результат ділення 1го аргумента на інший."
      ],
      "metadata": {
        "id": "O8_aTgc-San7"
      }
    },
    {
      "cell_type": "code",
      "source": [
        "def division(a_arg, b_arg):\n",
        "    return a_arg / b_arg\n",
        "division(4,2)"
      ],
      "metadata": {
        "colab": {
          "base_uri": "https://localhost:8080/"
        },
        "id": "JeqMjr0KSbUW",
        "outputId": "fe01d2de-7793-436f-f7e2-7d5c16bdc744"
      },
      "execution_count": 3,
      "outputs": [
        {
          "output_type": "execute_result",
          "data": {
            "text/plain": [
              "2.0"
            ]
          },
          "metadata": {},
          "execution_count": 3
        }
      ]
    },
    {
      "cell_type": "markdown",
      "source": [
        "2. (2б) Викличте вище визначену функцію, де другий аргумент дорівнює 0."
      ],
      "metadata": {
        "id": "uo5bIZReS425"
      }
    },
    {
      "cell_type": "code",
      "source": [
        "division(2,0)"
      ],
      "metadata": {
        "colab": {
          "base_uri": "https://localhost:8080/",
          "height": 262
        },
        "id": "LtIL9Dd6S5dj",
        "outputId": "92def7a7-7e7c-485a-dc1e-04dfd1bbc3cd"
      },
      "execution_count": 5,
      "outputs": [
        {
          "output_type": "error",
          "ename": "ZeroDivisionError",
          "evalue": "ignored",
          "traceback": [
            "\u001b[0;31m---------------------------------------------------------------------------\u001b[0m",
            "\u001b[0;31mZeroDivisionError\u001b[0m                         Traceback (most recent call last)",
            "\u001b[0;32m<ipython-input-5-4bfd83dc4b32>\u001b[0m in \u001b[0;36m<cell line: 1>\u001b[0;34m()\u001b[0m\n\u001b[0;32m----> 1\u001b[0;31m \u001b[0mdivision\u001b[0m\u001b[0;34m(\u001b[0m\u001b[0;36m2\u001b[0m\u001b[0;34m,\u001b[0m\u001b[0;36m0\u001b[0m\u001b[0;34m)\u001b[0m\u001b[0;34m\u001b[0m\u001b[0;34m\u001b[0m\u001b[0m\n\u001b[0m",
            "\u001b[0;32m<ipython-input-3-76c41ff764f0>\u001b[0m in \u001b[0;36mdivision\u001b[0;34m(a_arg, b_arg)\u001b[0m\n\u001b[1;32m      1\u001b[0m \u001b[0;32mdef\u001b[0m \u001b[0mdivision\u001b[0m\u001b[0;34m(\u001b[0m\u001b[0ma_arg\u001b[0m\u001b[0;34m,\u001b[0m \u001b[0mb_arg\u001b[0m\u001b[0;34m)\u001b[0m\u001b[0;34m:\u001b[0m\u001b[0;34m\u001b[0m\u001b[0;34m\u001b[0m\u001b[0m\n\u001b[0;32m----> 2\u001b[0;31m     \u001b[0;32mreturn\u001b[0m \u001b[0ma_arg\u001b[0m \u001b[0;34m/\u001b[0m \u001b[0mb_arg\u001b[0m\u001b[0;34m\u001b[0m\u001b[0;34m\u001b[0m\u001b[0m\n\u001b[0m\u001b[1;32m      3\u001b[0m \u001b[0mdivision\u001b[0m\u001b[0;34m(\u001b[0m\u001b[0;36m4\u001b[0m\u001b[0;34m,\u001b[0m\u001b[0;36m2\u001b[0m\u001b[0;34m)\u001b[0m\u001b[0;34m\u001b[0m\u001b[0;34m\u001b[0m\u001b[0m\n",
            "\u001b[0;31mZeroDivisionError\u001b[0m: division by zero"
          ]
        }
      ]
    },
    {
      "cell_type": "markdown",
      "source": [
        "Ділення на нуль неможливе.\n"
      ],
      "metadata": {
        "id": "ANBKEjB5TQkv"
      }
    },
    {
      "cell_type": "markdown",
      "source": [
        "\n",
        "3. (6б) Перевизначте функцію так, щоби у випадку ділення на 0 функція повертала None, а в решті випадків - результат розрахунків."
      ],
      "metadata": {
        "id": "I0KcM11KTi7F"
      }
    },
    {
      "cell_type": "code",
      "source": [
        "def division(a, b):\n",
        "    if b == 0:\n",
        "        result = None\n",
        "    else:\n",
        "        result = a / b\n",
        "\n",
        "    return result\n",
        "\n",
        "result1 = division(10, 2)\n",
        "result2 = division(8, 0)\n",
        "\n",
        "print(result1,result2)\n"
      ],
      "metadata": {
        "colab": {
          "base_uri": "https://localhost:8080/"
        },
        "id": "HzLksWpXThE_",
        "outputId": "af12251c-a96e-4640-d640-fc8acea60307"
      },
      "execution_count": 7,
      "outputs": [
        {
          "output_type": "stream",
          "name": "stdout",
          "text": [
            "5.0 None\n"
          ]
        }
      ]
    },
    {
      "cell_type": "markdown",
      "source": [
        "Ділення на нуль неможливе.\n",
        "Функція повернула None через ділення на нуль."
      ],
      "metadata": {
        "id": "O0DhPj7cUFi6"
      }
    },
    {
      "cell_type": "markdown",
      "source": [
        "4. (5б) Напишіть документацію (docstring) у форматі Google до функції, що має обчислювати суму двох чисел."
      ],
      "metadata": {
        "id": "uuiwtn5KUSOC"
      }
    },
    {
      "cell_type": "code",
      "source": [
        "\"\"\"\n",
        "  Обчисення суми двох чисел.\n",
        "\n",
        "  Аргументи:\n",
        "    a : Перше число для додавання.\n",
        "    b : Друге число для додавання.\n",
        "\n",
        "  Вивід:\n",
        "      Сума двох чисел.\n",
        "\"\"\""
      ],
      "metadata": {
        "colab": {
          "base_uri": "https://localhost:8080/",
          "height": 53
        },
        "id": "wmAYO65UTUB9",
        "outputId": "3ac16042-a10b-4781-f555-2330874c2149"
      },
      "execution_count": 10,
      "outputs": [
        {
          "output_type": "execute_result",
          "data": {
            "text/plain": [
              "'\\n  Обчисення суми двох чисел.\\n\\n  Аргументи:\\n    a : Перше число для додавання.\\n    b : Друге число для додавання.\\n\\n  Вивід:\\n      Сума двох чисел.\\n'"
            ],
            "application/vnd.google.colaboratory.intrinsic+json": {
              "type": "string"
            }
          },
          "metadata": {},
          "execution_count": 10
        }
      ]
    },
    {
      "cell_type": "markdown",
      "source": [
        "5. (4б) Реалізуйте цю функцію (із додаванням docstring у визначення функції)."
      ],
      "metadata": {
        "id": "91h7aoLaU66f"
      }
    },
    {
      "cell_type": "code",
      "source": [
        "def calculate(a, b):\n",
        "  result = a + b\n",
        "\n",
        "  return result\n",
        "\n",
        "num1 = 6\n",
        "num2 = 7\n",
        "sum_result = calculate(num1, num2)\n",
        "\n",
        "print(f\"Сума {num1} і {num2} дорівнює {sum_result}\")"
      ],
      "metadata": {
        "colab": {
          "base_uri": "https://localhost:8080/"
        },
        "id": "bDzZcFumVGKc",
        "outputId": "8abe95f9-90df-4e3c-bb8f-f81b4cd57011"
      },
      "execution_count": 13,
      "outputs": [
        {
          "output_type": "stream",
          "name": "stdout",
          "text": [
            "Сума 6 і 7 дорівнює 13\n"
          ]
        }
      ]
    },
    {
      "cell_type": "markdown",
      "source": [
        "6. (6б) Визначте функцію, що віднімає одне число від іншого (підказка: це буде 2 аргументи функції). При чому, якщо не визначити, скільки саме має бути віднято від числа, за замовчуванням має відніматися 1. Викличте функцію, передаючи тільки один аргумент."
      ],
      "metadata": {
        "id": "fTvqTeamV5XG"
      }
    },
    {
      "cell_type": "code",
      "source": [
        "def fun_division(*args):\n",
        "    if len(args) == 1:\n",
        "      return args[0] - 1\n",
        "    return args[0] - args[1]\n",
        "\n",
        "\n",
        "print(fun_division(2,2))"
      ],
      "metadata": {
        "id": "uN5fxrqrV6Xx"
      },
      "execution_count": null,
      "outputs": []
    },
    {
      "cell_type": "markdown",
      "source": [
        "7. (10б) Визначте функцію, яка приймає iterable (ітерабельний обʼєкт, напр. список), що складається з 7ми рядкових значень - назв погодних умов (напр. \"sunny\") за кожен день у тижні. Повертає функція словник, де ключами є рядки з погодними умовами, а значеннями - кількість разів, скільки дана погода була протягом тижня (напр. {'sunny': 1, ...})."
      ],
      "metadata": {
        "id": "AXRyengbWLEl"
      }
    },
    {
      "cell_type": "code",
      "source": [
        "def count_weather_cond(weekly_cond):\n",
        "    weather_counts = {}\n",
        "    for condition in weekly_cond:\n",
        "        weather_counts[condition] = weather_counts.get(condition, 0) + 1\n",
        "\n",
        "    return weather_counts\n",
        "\n",
        "weekly_cond = [\"sunny\", \"rainy\", \"sunny\", \"cloudy\", \"rainy\", \"sunny\", \"cloudy\"]\n",
        "result = count_weather_cond(weekly_cond)\n",
        "print(result)"
      ],
      "metadata": {
        "colab": {
          "base_uri": "https://localhost:8080/"
        },
        "id": "OwoX09fVWQHE",
        "outputId": "75d06452-d61b-451e-d85b-da9473b44d6c"
      },
      "execution_count": 15,
      "outputs": [
        {
          "output_type": "stream",
          "name": "stdout",
          "text": [
            "{'sunny': 3, 'rainy': 2, 'cloudy': 2}\n"
          ]
        }
      ]
    },
    {
      "cell_type": "markdown",
      "source": [
        "8. (3б) Викличте цю функцію тричі з різними аргументами та виведіть результати на екран."
      ],
      "metadata": {
        "id": "MKJqSmIJWelm"
      }
    },
    {
      "cell_type": "code",
      "source": [
        "weekly_conditions1 = [\"sunny\", \"rainy\", \"sunny\", \"cloudy\", \"rainy\", \"sunny\", \"cloudy\"]\n",
        "result1 = count_weather_conditions(weekly_conditions1)\n",
        "print(f\"Результат 1: {result1}\")\n",
        "\n",
        "weekly_conditions2 = [\"rainy\", \"sunny\", \"sunny\", \"rainy\", \"cloudy\", \"cloudy\", \"sunny\"]\n",
        "result2 = count_weather_conditions(weekly_conditions2)\n",
        "print(f\"Результат 2: {result2}\")\n",
        "\n",
        "weekly_conditions3 = [\"cloudy\", \"cloudy\", \"sunny\", \"sunny\", \"rainy\", \"rainy\", \"sunny\"]\n",
        "result3 = count_weather_conditions(weekly_conditions3)\n",
        "print(f\"Результат 3: {result3}\")"
      ],
      "metadata": {
        "colab": {
          "base_uri": "https://localhost:8080/"
        },
        "id": "FEMuLzFNWh6k",
        "outputId": "7762ff15-497f-4844-e876-b93ae2ef33d6"
      },
      "execution_count": 27,
      "outputs": [
        {
          "output_type": "stream",
          "name": "stdout",
          "text": [
            "Результат 1: {'sunny': 3, 'rainy': 2, 'cloudy': 2}\n",
            "Результат 2: {'rainy': 2, 'sunny': 3, 'cloudy': 2}\n",
            "Результат 3: {'cloudy': 2, 'sunny': 3, 'rainy': 2}\n"
          ]
        }
      ]
    },
    {
      "cell_type": "markdown",
      "source": [
        "9. (15б) Напишіть програму, яка б шукала необхідне число у **впорядкованому** списку цілочислених значень, де\n",
        "\n",
        "\n",
        "1.   число має вводитись з консолі.\n",
        "2.   власне алгоритм пошуку винесений в окрему функцію, яка повертає булеве значення (знайдено число - True, не знайдено - False).\n",
        "3. в залежності від результату функції, виведіть на екран повідомлення про успішний або ж неуспішний пошук.\n",
        "\n",
        "\n",
        "**Зауваження**: використовувати оператор **in** заборонено."
      ],
      "metadata": {
        "id": "auAeGfsZYEy1"
      }
    },
    {
      "cell_type": "code",
      "source": [
        "def search_in_list(target_number, sorted_list):\n",
        "    start = 0\n",
        "    end = len(sorted_list) - 1\n",
        "\n",
        "    while start <= end:\n",
        "        mid = (start + end) // 2\n",
        "        mid_value = sorted_list[mid]\n",
        "\n",
        "        if mid_value == target_number:\n",
        "            return True\n",
        "        elif mid_value < target_number:\n",
        "            start = mid + 1\n",
        "        else:\n",
        "            end = mid - 1\n",
        "\n",
        "    return False\n",
        "\n",
        "\n",
        "target_number = int(input(\"Enter a number: \"))\n",
        "sorted_list = [1, 3, 5, 7, 9, 11, 13, 15, 17, 19]\n",
        "found = search_in_list(target_number, sorted_list)\n",
        "\n",
        "\n",
        "if found:\n",
        "    print(f\"Tаке число {target_number} є в списку\")\n",
        "else:\n",
        "    print(f\"Tакого числа {target_number} нема в списку\")"
      ],
      "metadata": {
        "colab": {
          "base_uri": "https://localhost:8080/"
        },
        "id": "3nAJknbJYHVZ",
        "outputId": "8a6aa9bc-eb6c-43df-ea03-a95737182c5d"
      },
      "execution_count": 29,
      "outputs": [
        {
          "output_type": "stream",
          "name": "stdout",
          "text": [
            "Enter a number: 2\n",
            "Tакого числа 2 нема в списку\n"
          ]
        }
      ]
    },
    {
      "cell_type": "markdown",
      "source": [
        "# II. Lambda functions."
      ],
      "metadata": {
        "id": "zRwyi1RMZcVO"
      }
    },
    {
      "cell_type": "markdown",
      "source": [
        "10. (6б) Визначте анонімну функцію, що виконувала б завдання з задачі №1."
      ],
      "metadata": {
        "id": "QGu8ePUiZZ27"
      }
    },
    {
      "cell_type": "code",
      "source": [
        "result_sum = lambda first_arg, second_arg: first_arg + second_arg\n",
        "print(f\"Сума: {result_sum(1,2)}\")"
      ],
      "metadata": {
        "colab": {
          "base_uri": "https://localhost:8080/"
        },
        "id": "FB_CATWNZhcc",
        "outputId": "3f7bf9c5-ba31-49a3-8271-4f02e3995ee0"
      },
      "execution_count": 34,
      "outputs": [
        {
          "output_type": "stream",
          "name": "stdout",
          "text": [
            "Сума: 3\n"
          ]
        }
      ]
    },
    {
      "cell_type": "markdown",
      "source": [
        "11. (5б) В яких випадках варто використовувати лямбда-функції?"
      ],
      "metadata": {
        "id": "AuNhWJgvaGrA"
      }
    },
    {
      "cell_type": "markdown",
      "source": [
        "Лямбда-функції варто використовувати для коротких, одноразових задач або випадків, коли потрібно передати невелику функцію як аргумент."
      ],
      "metadata": {
        "id": "q8lSsCcBaSlz"
      }
    },
    {
      "cell_type": "markdown",
      "source": [
        "12. (9б) Визначте список з рядками. Після цього визначте анонімну функцію для отримання першого символу у верхньому регістрі для кожного рядка списку.\n",
        "*Підказка*: використовуйте анонімну функцію в якості агрумента до вбудованої ф-ції, яка створена для застосування функцій над iterable обʼєктами.\n",
        "Результат виведіть на екран у вигляді кортежу."
      ],
      "metadata": {
        "id": "WptqDun0aM8n"
      }
    },
    {
      "cell_type": "code",
      "source": [
        "def upper_first_word(*args):\n",
        "    words = []\n",
        "    for word in args:\n",
        "      words.append(word[0].upper())\n",
        "    return words\n",
        "\n",
        "\n",
        "words = ['lion', 'pomelo', 'eat', 'wish']\n",
        "word = lambda x : upper_first_word(*x)\n",
        "\n",
        "print(word(words))"
      ],
      "metadata": {
        "colab": {
          "base_uri": "https://localhost:8080/"
        },
        "id": "AzYSSZGcaQPI",
        "outputId": "9b64f244-c56e-4b76-e428-32014daaf05c"
      },
      "execution_count": 35,
      "outputs": [
        {
          "output_type": "stream",
          "name": "stdout",
          "text": [
            "['L', 'P', 'E', 'W']\n"
          ]
        }
      ]
    },
    {
      "cell_type": "markdown",
      "source": [
        "# III. Decorators."
      ],
      "metadata": {
        "id": "YtzAIfXNaqBf"
      }
    },
    {
      "cell_type": "markdown",
      "source": [
        "13. (15б) Визначте декоратор, який би виводив у консоль повідомлення про початок роботи і назву функції, а після відпрацювання функції - повідомлення про закінчення роботи і назву функції, що задекорована."
      ],
      "metadata": {
        "id": "qzYzMTeCas6o"
      }
    },
    {
      "cell_type": "code",
      "source": [
        "def log_dec(func):\n",
        "    def wrapper(*args, **kwargs):\n",
        "        print(f\"Робота функції{func.__name__}\")\n",
        "        result = func(*args, **kwargs)\n",
        "        print(f\"Закінчення роботи функції {func.__name__}\")\n",
        "        return result\n",
        "    return wrapper"
      ],
      "metadata": {
        "id": "7R3WCu4gapXr"
      },
      "execution_count": 38,
      "outputs": []
    },
    {
      "cell_type": "markdown",
      "source": [
        "14. (7б) Задекоруйте функції з завдання 3, 5 та 6 декоратором із завдання 13. *Примітка*: продемонструйте 2 способи, як можна задекорувати функції (**УВАГА**: не декоруйте функції двічі!)."
      ],
      "metadata": {
        "id": "oEADtgqybUzr"
      }
    },
    {
      "cell_type": "code",
      "source": [
        "@log_function\n",
        "def division_fun(first_arg, second_arg):\n",
        "    if second_arg == 0:\n",
        "      return None\n",
        "    return first_arg / second_arg\n",
        "\n",
        "\n",
        "@log_function\n",
        "def fun_division(*args):\n",
        "    if len(args) == 1:\n",
        "      return args[0] - 1\n",
        "    return args[0] - args[1]\n",
        "\n",
        "\n",
        "@log_function\n",
        "def add_numbers(g, b):\n",
        "    return g + b"
      ],
      "metadata": {
        "id": "mSXRv6LlbWwZ"
      },
      "execution_count": 39,
      "outputs": []
    },
    {
      "cell_type": "markdown",
      "source": [
        "15. (2б) Викличте одну з задекорованих функцій і виведіть її результат на екран."
      ],
      "metadata": {
        "id": "O3cWNyE4boQf"
      }
    },
    {
      "cell_type": "code",
      "source": [
        "print(division_fun(9,3),'\\n')\n",
        "\n",
        "print(fun_division(7),'\\n')\n",
        "\n",
        "print(add_numbers(2, 9),'\\n')"
      ],
      "metadata": {
        "colab": {
          "base_uri": "https://localhost:8080/"
        },
        "id": "TzKK07L2bnoj",
        "outputId": "9d0d5868-01a4-4d0a-c2c5-98a0e7db7057"
      },
      "execution_count": 41,
      "outputs": [
        {
          "output_type": "stream",
          "name": "stdout",
          "text": [
            "Початок division_fun\n",
            "Закінчення division_fun\n",
            "3.0 \n",
            "\n",
            "Початок fun_division\n",
            "Закінчення fun_division\n",
            "6 \n",
            "\n",
            "Початок add_numbers\n",
            "Закінчення add_numbers\n",
            "11 \n",
            "\n"
          ]
        }
      ]
    },
    {
      "cell_type": "markdown",
      "source": [
        "# Вітаю! Ви велика(ий) молодець, що впоралась(вся). Похваліть себе та побалуйте чимось приємним. Я Вами пишаюся."
      ],
      "metadata": {
        "id": "KXMGyBjkb6k9"
      }
    }
  ]
}